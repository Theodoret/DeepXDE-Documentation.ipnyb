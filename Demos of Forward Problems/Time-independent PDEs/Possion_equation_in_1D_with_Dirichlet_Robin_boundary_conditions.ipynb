{
  "nbformat": 4,
  "nbformat_minor": 0,
  "metadata": {
    "colab": {
      "provenance": []
    },
    "kernelspec": {
      "name": "python3",
      "display_name": "Python 3"
    },
    "language_info": {
      "name": "python"
    }
  },
  "cells": [
    {
      "cell_type": "markdown",
      "source": [
        "**Possion equation in 1D with Dirichlet/Robin boundary conditions**\n",
        "\n",
        "Retyped by Theodoret Putra Agatho on 7 Aug. 2023\n",
        "\n",
        "[Source](https://deepxde.readthedocs.io/en/latest/demos/pinn_forward/poisson.1d.dirichletrobin.html)"
      ],
      "metadata": {
        "id": "Ym-h9u3C-muD"
      }
    },
    {
      "cell_type": "code",
      "execution_count": 1,
      "metadata": {
        "colab": {
          "base_uri": "https://localhost:8080/"
        },
        "id": "CY-zVsgK-WXZ",
        "outputId": "bf7a12e5-c936-4b1a-978e-6dd0b271e017"
      },
      "outputs": [
        {
          "output_type": "stream",
          "name": "stdout",
          "text": [
            "Collecting deepxde\n",
            "  Downloading DeepXDE-1.9.2-py3-none-any.whl (165 kB)\n",
            "\u001b[2K     \u001b[90m━━━━━━━━━━━━━━━━━━━━━━━━━━━━━━━━━━━━━━━\u001b[0m \u001b[32m165.3/165.3 kB\u001b[0m \u001b[31m1.8 MB/s\u001b[0m eta \u001b[36m0:00:00\u001b[0m\n",
            "\u001b[?25hRequirement already satisfied: matplotlib in /usr/local/lib/python3.10/dist-packages (from deepxde) (3.7.1)\n",
            "Requirement already satisfied: numpy in /usr/local/lib/python3.10/dist-packages (from deepxde) (1.22.4)\n",
            "Requirement already satisfied: scikit-learn in /usr/local/lib/python3.10/dist-packages (from deepxde) (1.2.2)\n",
            "Collecting scikit-optimize>=0.9.0 (from deepxde)\n",
            "  Downloading scikit_optimize-0.9.0-py2.py3-none-any.whl (100 kB)\n",
            "\u001b[2K     \u001b[90m━━━━━━━━━━━━━━━━━━━━━━━━━━━━━━━━━━━━━━━\u001b[0m \u001b[32m100.3/100.3 kB\u001b[0m \u001b[31m5.9 MB/s\u001b[0m eta \u001b[36m0:00:00\u001b[0m\n",
            "\u001b[?25hRequirement already satisfied: scipy in /usr/local/lib/python3.10/dist-packages (from deepxde) (1.10.1)\n",
            "Requirement already satisfied: joblib>=0.11 in /usr/local/lib/python3.10/dist-packages (from scikit-optimize>=0.9.0->deepxde) (1.3.1)\n",
            "Collecting pyaml>=16.9 (from scikit-optimize>=0.9.0->deepxde)\n",
            "  Downloading pyaml-23.7.0-py3-none-any.whl (17 kB)\n",
            "Requirement already satisfied: threadpoolctl>=2.0.0 in /usr/local/lib/python3.10/dist-packages (from scikit-learn->deepxde) (3.2.0)\n",
            "Requirement already satisfied: contourpy>=1.0.1 in /usr/local/lib/python3.10/dist-packages (from matplotlib->deepxde) (1.1.0)\n",
            "Requirement already satisfied: cycler>=0.10 in /usr/local/lib/python3.10/dist-packages (from matplotlib->deepxde) (0.11.0)\n",
            "Requirement already satisfied: fonttools>=4.22.0 in /usr/local/lib/python3.10/dist-packages (from matplotlib->deepxde) (4.41.1)\n",
            "Requirement already satisfied: kiwisolver>=1.0.1 in /usr/local/lib/python3.10/dist-packages (from matplotlib->deepxde) (1.4.4)\n",
            "Requirement already satisfied: packaging>=20.0 in /usr/local/lib/python3.10/dist-packages (from matplotlib->deepxde) (23.1)\n",
            "Requirement already satisfied: pillow>=6.2.0 in /usr/local/lib/python3.10/dist-packages (from matplotlib->deepxde) (9.4.0)\n",
            "Requirement already satisfied: pyparsing>=2.3.1 in /usr/local/lib/python3.10/dist-packages (from matplotlib->deepxde) (3.1.0)\n",
            "Requirement already satisfied: python-dateutil>=2.7 in /usr/local/lib/python3.10/dist-packages (from matplotlib->deepxde) (2.8.2)\n",
            "Requirement already satisfied: PyYAML in /usr/local/lib/python3.10/dist-packages (from pyaml>=16.9->scikit-optimize>=0.9.0->deepxde) (6.0.1)\n",
            "Requirement already satisfied: six>=1.5 in /usr/local/lib/python3.10/dist-packages (from python-dateutil>=2.7->matplotlib->deepxde) (1.16.0)\n",
            "Installing collected packages: pyaml, scikit-optimize, deepxde\n",
            "Successfully installed deepxde-1.9.2 pyaml-23.7.0 scikit-optimize-0.9.0\n"
          ]
        }
      ],
      "source": [
        "pip install deepxde"
      ]
    },
    {
      "cell_type": "markdown",
      "source": [
        "**Problem setup**\n",
        "\n",
        "We will solve a Poisson equation:\n",
        "\n",
        "\\begin{align}\n",
        "        \\Delta u = 2, x \\in [-1, 1],\n",
        "    \\end{align}\n",
        "\n",
        "with the Robin boundary conditions on the right boundary\n",
        "\n",
        "\\begin{align}\n",
        "        \\frac{\\partial u}{\\partial x} = u\n",
        "    \\end{align}\n",
        "\n",
        "and Dirichlet boundary conditions on the left boundary\n",
        "\n",
        "\\begin{align}\n",
        "        u(-1) = 0.\n",
        "    \\end{align}\n",
        "\n",
        "The exact solution is $u(x) = (x + 1)^2$."
      ],
      "metadata": {
        "id": "XKjY1Bst-ylq"
      }
    },
    {
      "cell_type": "markdown",
      "source": [
        "**Implementation**\n",
        "\n",
        "This description goes through the implementation of a solver for the above described Poisson equation step-by-step. First, the DeepXDE module is imported:"
      ],
      "metadata": {
        "id": "DcRdFuzH_Pd0"
      }
    },
    {
      "cell_type": "code",
      "source": [
        "import deepxde as dde\n",
        "import numpy as np"
      ],
      "metadata": {
        "colab": {
          "base_uri": "https://localhost:8080/"
        },
        "id": "1B-X4n1w-yFf",
        "outputId": "e90fe950-9212-430e-fd94-0b4aafa90170"
      },
      "execution_count": 2,
      "outputs": [
        {
          "output_type": "stream",
          "name": "stdout",
          "text": [
            "No backend selected.\n",
            "Finding available backend...\n"
          ]
        },
        {
          "output_type": "stream",
          "name": "stderr",
          "text": [
            "Using backend: tensorflow.compat.v1\n",
            "Other supported backends: tensorflow, pytorch, jax, paddle.\n",
            "paddle supports more examples now and is recommended.\n",
            "WARNING:tensorflow:From /usr/local/lib/python3.10/dist-packages/tensorflow/python/compat/v2_compat.py:107: disable_resource_variables (from tensorflow.python.ops.variable_scope) is deprecated and will be removed in a future version.\n",
            "Instructions for updating:\n",
            "non-resource variables are not supported in the long term\n"
          ]
        },
        {
          "output_type": "stream",
          "name": "stdout",
          "text": [
            "Found tensorflow.compat.v1\n",
            "Setting the default backend to \"tensorflow.compat.v1\". You can change it in the ~/.deepxde/config.json file or export the DDE_BACKEND environment variable. Valid options are: tensorflow.compat.v1, tensorflow, pytorch, jax, paddle (all lowercase)\n"
          ]
        },
        {
          "output_type": "stream",
          "name": "stderr",
          "text": [
            "WARNING:tensorflow:From /usr/local/lib/python3.10/dist-packages/deepxde/nn/initializers.py:118: The name tf.keras.initializers.he_normal is deprecated. Please use tf.compat.v1.keras.initializers.he_normal instead.\n",
            "\n"
          ]
        }
      ]
    },
    {
      "cell_type": "markdown",
      "source": [
        "We begin by defining a computational geometry. We can use a built-in class `Interval` as follows"
      ],
      "metadata": {
        "id": "NHczR7MC_b4C"
      }
    },
    {
      "cell_type": "code",
      "source": [
        "geom = dde.geometry.Interval(-1, 1)"
      ],
      "metadata": {
        "id": "U8iXeHq1_bHY"
      },
      "execution_count": 3,
      "outputs": []
    },
    {
      "cell_type": "markdown",
      "source": [
        "Next, we express the PDE residual of the Poisson equation:"
      ],
      "metadata": {
        "id": "0yNTEei-_jvM"
      }
    },
    {
      "cell_type": "code",
      "source": [
        "def pde(x, y):\n",
        "  dy_xx = dde.grad.hessian(y, x)\n",
        "  return dy_xx - 2"
      ],
      "metadata": {
        "id": "mmeQSqMh_jMj"
      },
      "execution_count": 4,
      "outputs": []
    },
    {
      "cell_type": "markdown",
      "source": [
        "The first argument to `pde` is the network input, i.e., the $x$-coordinate. The second argument is the network output, i.e., the solution $u(x)$, but here we use `y` as the name of the variable.\n",
        "\n",
        "Next, we consider the Robin boundary condition and Dirichlet boundary condition respectively.\n",
        "\n",
        "The location of the Robin boundary condition is defined by a simple Python function. The function should return `True` for those points satisfying $x = 1$ and `False` otherwise (Note that because of rounding-off errors, it is often wise to use `dde.utils.isclose` to test whether two floating point values are equivalent). In this function, the argument `x` to `boundary` is the network input and is a $d$-dim vector, where $d$ is the dimension and $d = 1$ in this case. Then a boolean `on_boundary` is used as the second argument. If the point `x` (the first argument) is on the boundary of the geometry, in this case Robin boundary when it reaches the right endpoint of the interval, then `on_boundary` is `True`, otherwise, `on_boundary` is `False`."
      ],
      "metadata": {
        "id": "oCT25rAG_rWy"
      }
    },
    {
      "cell_type": "code",
      "source": [
        "def boundary_r(x, on_boundary):\n",
        "  return on_boundary and dde.utils.isclose(x[0], 1)"
      ],
      "metadata": {
        "id": "JyWnuOKl_qiT"
      },
      "execution_count": 6,
      "outputs": []
    },
    {
      "cell_type": "markdown",
      "source": [
        "The location of the Dirichlet boundary condition is defined in a similar way that the function should return `True` for those points satisfying $x = -1$ and `False` otherwise. The arguments in this function are similar to `boundary_r`, and the only difference is that in this case Dirichlet boundary condition is used when it reaches the left endpoint of the interval."
      ],
      "metadata": {
        "id": "2WURThwyAwhU"
      }
    },
    {
      "cell_type": "code",
      "source": [
        "def boundary_l(x, on_boundary):\n",
        "  return on_boundary and dde.utils.isclose(x[0], -1)"
      ],
      "metadata": {
        "id": "o-X_pOJdAt9L"
      },
      "execution_count": 7,
      "outputs": []
    },
    {
      "cell_type": "markdown",
      "source": [
        "Next, we define a function to return the value of $u(x)$ for the points $x$ on the Dirichlet boundary. In this case, it is $u(x) = 0$. For example, $(x + 1)^2$ is 0 on the boundary, and thus we can also use"
      ],
      "metadata": {
        "id": "NccQrZZcBjyk"
      }
    },
    {
      "cell_type": "code",
      "source": [
        "def func(x):\n",
        "  return (x + 1) ** 2"
      ],
      "metadata": {
        "id": "Dpb0z-1QBjII"
      },
      "execution_count": 8,
      "outputs": []
    },
    {
      "cell_type": "markdown",
      "source": [
        "Then, the Dirichlet boundary condition is"
      ],
      "metadata": {
        "id": "SOgKYukNBy20"
      }
    },
    {
      "cell_type": "code",
      "source": [
        "bc_l = dde.icbc.DirichletBC(geom, func, boundary_l)"
      ],
      "metadata": {
        "id": "yqVP4Rt5ByQc"
      },
      "execution_count": 11,
      "outputs": []
    },
    {
      "cell_type": "markdown",
      "source": [
        "For Robin boundary condition, rather than define a function to return the value of $u(x)$ on the boundary, we use a lambda function that maps `x` and `y` to `y`, where x is the input and y is the output. Then Robin boundary condition is defined"
      ],
      "metadata": {
        "id": "3O4WVbkrB5UV"
      }
    },
    {
      "cell_type": "code",
      "source": [
        "bc_r = dde.icbc.RobinBC(geom, lambda X, y: y, boundary_r)"
      ],
      "metadata": {
        "id": "H5Zvl8UTB3ya"
      },
      "execution_count": 10,
      "outputs": []
    },
    {
      "cell_type": "markdown",
      "source": [
        "Now, we have specified the geometry, PDE residual, Dirichlet boundary condition, and Robin boundary condition. We then define the PDE problem as"
      ],
      "metadata": {
        "id": "gL_ZhM9FCLM8"
      }
    },
    {
      "cell_type": "code",
      "source": [
        "data = dde.data.PDE(geom, pde, [bc_l, bc_r], 16, 2, solution=func, num_test=100)"
      ],
      "metadata": {
        "id": "omO-Z0-zCKl8"
      },
      "execution_count": 12,
      "outputs": []
    },
    {
      "cell_type": "markdown",
      "source": [
        "The number 16 is the number of training residual points sampled inside the domain, and the number 2 is the number of training points sampled on the boundary. The argument `solution=func` is the reference solution to compute the error of our solution, and can be ignored if we don't have a reference solution. We use 100 residual points for testing the PDE residual.\n",
        "\n",
        "Next, we choose the network. Here, we use a fully connected neural network of depth 4 (i.e., 3 hidden layers) and width 50:"
      ],
      "metadata": {
        "id": "jbQs-Ux_Cbue"
      }
    },
    {
      "cell_type": "code",
      "source": [
        "layer_size = [1] + [50] * 3 + [1]\n",
        "activation = \"tanh\"\n",
        "initializer = \"Glorot uniform\"\n",
        "net = dde.nn.FNN(layer_size, activation, initializer)"
      ],
      "metadata": {
        "id": "eEy_kFxlCaoJ"
      },
      "execution_count": 13,
      "outputs": []
    },
    {
      "cell_type": "markdown",
      "source": [
        "Now, we have the PDE problem and the network. We build a `Model` and choose the optimizer and learning rate:"
      ],
      "metadata": {
        "id": "fd3sQ_4EC7SN"
      }
    },
    {
      "cell_type": "code",
      "source": [
        "model = dde.Model(data, net)\n",
        "model.compile(\"adam\", lr=0.001, metrics=[\"l2 relative error\"])"
      ],
      "metadata": {
        "colab": {
          "base_uri": "https://localhost:8080/"
        },
        "id": "HpO6YrfHC6KG",
        "outputId": "45c5dbb8-85c0-414f-c489-2537bd92cd53"
      },
      "execution_count": 14,
      "outputs": [
        {
          "output_type": "stream",
          "name": "stdout",
          "text": [
            "Compiling model...\n",
            "Building feed-forward neural network...\n",
            "'build' took 0.160449 s\n",
            "\n"
          ]
        },
        {
          "output_type": "stream",
          "name": "stderr",
          "text": [
            "/usr/local/lib/python3.10/dist-packages/deepxde/nn/tensorflow_compat_v1/fnn.py:116: UserWarning: `tf.layers.dense` is deprecated and will be removed in a future version. Please use `tf.keras.layers.Dense` instead.\n",
            "  return tf.layers.dense(\n"
          ]
        },
        {
          "output_type": "stream",
          "name": "stdout",
          "text": [
            "'compile' took 0.763584 s\n",
            "\n"
          ]
        }
      ]
    },
    {
      "cell_type": "markdown",
      "source": [
        "We also compute the $L^2$ relative error as a metric during training.\n",
        "\n",
        "We then train the model for 10000 iterations:"
      ],
      "metadata": {
        "id": "tVGAg7ZADHf1"
      }
    },
    {
      "cell_type": "code",
      "source": [
        "losshistory, train_state = model.train(iterations=10000)"
      ],
      "metadata": {
        "colab": {
          "base_uri": "https://localhost:8080/"
        },
        "id": "6UWEnq2FDGzV",
        "outputId": "efa3b63e-eddc-470e-dca4-578b307ac1ff"
      },
      "execution_count": 15,
      "outputs": [
        {
          "output_type": "stream",
          "name": "stdout",
          "text": [
            "Training model...\n",
            "\n",
            "Step      Train loss                        Test loss                         Test metric   \n",
            "0         [4.00e+00, 1.08e-02, 1.06e-04]    [4.00e+00, 1.08e-02, 1.06e-04]    [9.78e-01]    \n",
            "1000      [3.58e-05, 1.23e-05, 2.65e-06]    [2.55e-05, 1.23e-05, 2.65e-06]    [1.09e-03]    \n",
            "2000      [1.12e-05, 1.34e-07, 1.02e-06]    [1.22e-05, 1.34e-07, 1.02e-06]    [2.27e-04]    \n",
            "3000      [8.73e-06, 3.52e-09, 9.46e-09]    [9.25e-06, 3.52e-09, 9.46e-09]    [3.09e-04]    \n",
            "4000      [1.88e-05, 1.03e-05, 3.81e-05]    [1.66e-05, 1.03e-05, 3.81e-05]    [2.04e-03]    \n",
            "5000      [7.04e-06, 1.36e-07, 5.76e-07]    [8.08e-06, 1.36e-07, 5.76e-07]    [1.91e-04]    \n",
            "6000      [6.20e-06, 9.38e-09, 5.44e-08]    [7.07e-06, 9.38e-09, 5.44e-08]    [2.56e-04]    \n",
            "7000      [5.50e-06, 1.16e-08, 3.23e-08]    [6.23e-06, 1.16e-08, 3.23e-08]    [2.36e-04]    \n",
            "8000      [4.72e-06, 1.23e-09, 4.39e-09]    [5.49e-06, 1.23e-09, 4.39e-09]    [2.52e-04]    \n",
            "9000      [1.78e-05, 1.22e-05, 2.68e-05]    [1.42e-05, 1.22e-05, 2.68e-05]    [1.47e-03]    \n",
            "10000     [3.53e-06, 2.14e-07, 3.60e-07]    [4.00e-06, 2.14e-07, 3.60e-07]    [3.99e-04]    \n",
            "\n",
            "Best model at step 10000:\n",
            "  train loss: 4.11e-06\n",
            "  test loss: 4.58e-06\n",
            "  test metric: [3.99e-04]\n",
            "\n",
            "'train' took 22.711781 s\n",
            "\n"
          ]
        }
      ]
    },
    {
      "cell_type": "code",
      "source": [
        "dde.saveplot(losshistory, train_state, issave=True, isplot=True)"
      ],
      "metadata": {
        "colab": {
          "base_uri": "https://localhost:8080/",
          "height": 933
        },
        "id": "d8JupaZkDQ7q",
        "outputId": "2ec71dbe-4305-4dc6-a13e-280e180930db"
      },
      "execution_count": 16,
      "outputs": [
        {
          "output_type": "stream",
          "name": "stdout",
          "text": [
            "Saving loss history to /content/loss.dat ...\n",
            "Saving training data to /content/train.dat ...\n",
            "Saving test data to /content/test.dat ...\n"
          ]
        },
        {
          "output_type": "display_data",
          "data": {
            "text/plain": [
              "<Figure size 640x480 with 1 Axes>"
            ],
            "image/png": "[encoded data removed]"
          },
          "metadata": {}
        },
        {
          "output_type": "display_data",
          "data": {
            "text/plain": [
              "<Figure size 640x480 with 1 Axes>"
            ],
            "image/png": "[encoded data removed]"
          },
          "metadata": {}
        }
      ]
    }
  ]
}