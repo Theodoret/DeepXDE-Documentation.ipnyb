{
  "nbformat": 4,
  "nbformat_minor": 0,
  "metadata": {
    "colab": {
      "provenance": []
    },
    "kernelspec": {
      "name": "python3",
      "display_name": "Python 3"
    },
    "language_info": {
      "name": "python"
    }
  },
  "cells": [
    {
      "cell_type": "markdown",
      "source": [
        "**Poisson equation in 1D with Dirichlet/Neumann boundary conditions**\n",
        "\n",
        "Retyped by Theodoret Putra Agatho on 6 Aug. 2023\n",
        "\n",
        "[Source](https://deepxde.readthedocs.io/en/latest/demos/pinn_forward/poisson.1d.neumanndirichlet.html)"
      ],
      "metadata": {
        "id": "jn8Weu27UUWH"
      }
    },
    {
      "cell_type": "code",
      "execution_count": null,
      "metadata": {
        "id": "XrYRRIFwMos_",
        "colab": {
          "base_uri": "https://localhost:8080/"
        },
        "outputId": "17c4814e-086e-4c80-ea13-808474440ce2"
      },
      "outputs": [
        {
          "output_type": "stream",
          "name": "stdout",
          "text": [
            "Collecting deepxde\n",
            "  Downloading DeepXDE-1.9.2-py3-none-any.whl (165 kB)\n",
            "\u001b[2K     \u001b[90m━━━━━━━━━━━━━━━━━━━━━━━━━━━━━━━━━━━━━━━\u001b[0m \u001b[32m165.3/165.3 kB\u001b[0m \u001b[31m4.2 MB/s\u001b[0m eta \u001b[36m0:00:00\u001b[0m\n",
            "\u001b[?25hRequirement already satisfied: matplotlib in /usr/local/lib/python3.10/dist-packages (from deepxde) (3.7.1)\n",
            "Requirement already satisfied: numpy in /usr/local/lib/python3.10/dist-packages (from deepxde) (1.22.4)\n",
            "Requirement already satisfied: scikit-learn in /usr/local/lib/python3.10/dist-packages (from deepxde) (1.2.2)\n",
            "Collecting scikit-optimize>=0.9.0 (from deepxde)\n",
            "  Downloading scikit_optimize-0.9.0-py2.py3-none-any.whl (100 kB)\n",
            "\u001b[2K     \u001b[90m━━━━━━━━━━━━━━━━━━━━━━━━━━━━━━━━━━━━━━\u001b[0m \u001b[32m100.3/100.3 kB\u001b[0m \u001b[31m11.8 MB/s\u001b[0m eta \u001b[36m0:00:00\u001b[0m\n",
            "\u001b[?25hRequirement already satisfied: scipy in /usr/local/lib/python3.10/dist-packages (from deepxde) (1.10.1)\n",
            "Requirement already satisfied: joblib>=0.11 in /usr/local/lib/python3.10/dist-packages (from scikit-optimize>=0.9.0->deepxde) (1.3.1)\n",
            "Collecting pyaml>=16.9 (from scikit-optimize>=0.9.0->deepxde)\n",
            "  Downloading pyaml-23.7.0-py3-none-any.whl (17 kB)\n",
            "Requirement already satisfied: threadpoolctl>=2.0.0 in /usr/local/lib/python3.10/dist-packages (from scikit-learn->deepxde) (3.2.0)\n",
            "Requirement already satisfied: contourpy>=1.0.1 in /usr/local/lib/python3.10/dist-packages (from matplotlib->deepxde) (1.1.0)\n",
            "Requirement already satisfied: cycler>=0.10 in /usr/local/lib/python3.10/dist-packages (from matplotlib->deepxde) (0.11.0)\n",
            "Requirement already satisfied: fonttools>=4.22.0 in /usr/local/lib/python3.10/dist-packages (from matplotlib->deepxde) (4.41.1)\n",
            "Requirement already satisfied: kiwisolver>=1.0.1 in /usr/local/lib/python3.10/dist-packages (from matplotlib->deepxde) (1.4.4)\n",
            "Requirement already satisfied: packaging>=20.0 in /usr/local/lib/python3.10/dist-packages (from matplotlib->deepxde) (23.1)\n",
            "Requirement already satisfied: pillow>=6.2.0 in /usr/local/lib/python3.10/dist-packages (from matplotlib->deepxde) (9.4.0)\n",
            "Requirement already satisfied: pyparsing>=2.3.1 in /usr/local/lib/python3.10/dist-packages (from matplotlib->deepxde) (3.1.0)\n",
            "Requirement already satisfied: python-dateutil>=2.7 in /usr/local/lib/python3.10/dist-packages (from matplotlib->deepxde) (2.8.2)\n",
            "Requirement already satisfied: PyYAML in /usr/local/lib/python3.10/dist-packages (from pyaml>=16.9->scikit-optimize>=0.9.0->deepxde) (6.0.1)\n",
            "Requirement already satisfied: six>=1.5 in /usr/local/lib/python3.10/dist-packages (from python-dateutil>=2.7->matplotlib->deepxde) (1.16.0)\n",
            "Installing collected packages: pyaml, scikit-optimize, deepxde\n",
            "Successfully installed deepxde-1.9.2 pyaml-23.7.0 scikit-optimize-0.9.0\n"
          ]
        }
      ],
      "source": [
        "pip install deepxde"
      ]
    },
    {
      "cell_type": "markdown",
      "source": [
        "**Problem setup**\n",
        "\n",
        "We will solve a Possion equation\n",
        "\n",
        "\\begin{align}\n",
        "        \\Delta u = 2, x \\in [-1, 1].\n",
        "    \\end{align}\n",
        "\n",
        "with the Neumann boundary conditions on the right boundary\n",
        "\n",
        "\\begin{align}\n",
        "        \\left. \\frac{\\partial u}{\\partial x} \\right|_{x=1} = 4\n",
        "    \\end{align}\n",
        "\n",
        "and Dirichlet boundary conditions on the left boundary\n",
        "\n",
        "\\begin{align}\n",
        "        u(-1) = 0.\n",
        "    \\end{align}\n",
        "\n",
        "The exact solution is $u(x) = (x + 1)^2$."
      ],
      "metadata": {
        "id": "diimBRaWUgEh"
      }
    },
    {
      "cell_type": "markdown",
      "source": [
        "**Implementation**\n",
        "\n",
        "This description goes through the implementation of a solver for the above described Poisson equation step-by-step. First, modules setting is the same as Possion equation in 1D with Dirichlet boundary conditions. More details can be found in this page.\n",
        "\n",
        "The DeepXDE and TensorFlow(`tf`) modules are imported:"
      ],
      "metadata": {
        "id": "K465l_f_WB3q"
      }
    },
    {
      "cell_type": "code",
      "source": [
        "import deepxde as dde\n",
        "from deepxde.backend import tf"
      ],
      "metadata": {
        "colab": {
          "base_uri": "https://localhost:8080/"
        },
        "id": "8MnXniiGOrb6",
        "outputId": "9c866534-5a5c-4795-936f-4c81ef0affb2"
      },
      "execution_count": null,
      "outputs": [
        {
          "output_type": "stream",
          "name": "stdout",
          "text": [
            "No backend selected.\n",
            "Finding available backend...\n"
          ]
        },
        {
          "output_type": "stream",
          "name": "stderr",
          "text": [
            "Using backend: tensorflow.compat.v1\n",
            "Other supported backends: tensorflow, pytorch, jax, paddle.\n",
            "paddle supports more examples now and is recommended.\n",
            "WARNING:tensorflow:From /usr/local/lib/python3.10/dist-packages/tensorflow/python/compat/v2_compat.py:107: disable_resource_variables (from tensorflow.python.ops.variable_scope) is deprecated and will be removed in a future version.\n",
            "Instructions for updating:\n",
            "non-resource variables are not supported in the long term\n"
          ]
        },
        {
          "output_type": "stream",
          "name": "stdout",
          "text": [
            "Found tensorflow.compat.v1\n",
            "Setting the default backend to \"tensorflow.compat.v1\". You can change it in the ~/.deepxde/config.json file or export the DDE_BACKEND environment variable. Valid options are: tensorflow.compat.v1, tensorflow, pytorch, jax, paddle (all lowercase)\n"
          ]
        },
        {
          "output_type": "stream",
          "name": "stderr",
          "text": [
            "WARNING:tensorflow:From /usr/local/lib/python3.10/dist-packages/deepxde/nn/initializers.py:118: The name tf.keras.initializers.he_normal is deprecated. Please use tf.compat.v1.keras.initializers.he_normal instead.\n",
            "\n"
          ]
        }
      ]
    },
    {
      "cell_type": "markdown",
      "source": [
        "We begin by defining a computational geometry. We can use a built-in class `Interval` as follows"
      ],
      "metadata": {
        "id": "pN4jSjbNWXcn"
      }
    },
    {
      "cell_type": "code",
      "source": [
        "geom = dde.geometry.Interval(-1, 1)"
      ],
      "metadata": {
        "id": "2MvYkDejWWvf"
      },
      "execution_count": null,
      "outputs": []
    },
    {
      "cell_type": "markdown",
      "source": [
        "Next, we express the PDE residual of the Possion equation:"
      ],
      "metadata": {
        "id": "sQDagshlWe91"
      }
    },
    {
      "cell_type": "code",
      "source": [
        "def pde(x, y):\n",
        "  dy_xx = dde.grad.hessian(y, x)\n",
        "  return dy_xx - 2"
      ],
      "metadata": {
        "id": "rJgihFXgWeEP"
      },
      "execution_count": null,
      "outputs": []
    },
    {
      "cell_type": "markdown",
      "source": [
        "The first argument to `pde` is the network input, i.e., the $x$-coordinate. The second argument is the network output, i.e., the solution $u(x)$, but here we use `y` as the name of the variable.\n",
        "\n",
        "Next, we consider the Neumann boundary condition and Dirichlet boundary condition respectively.\n",
        "\n",
        "The Neumann boundary condition is defined by a simple Python function. The function should return `True` for those points satisfying $x = 1$ and `False` otherwise (Note that because of rounding-off errors, it is often wise to use `dde.utils.isclose` to test whether two floating point values are equivalent). In this function, the argument `x` to `boundary` is the network input and is a $d$-dim vector, where $d$ is the dimension and $d = 1$ in this case. Then a boolean `on_boundary` is used as the second argument. If the point `x` (the first argument) is on the boundary of the geometry, in this case Neumann boundary when it reaches the right endpoint of the interval, then `on_boundary` is `True`, otherwise, `on_boundary` is `False`."
      ],
      "metadata": {
        "id": "4npjyfNPWnJN"
      }
    },
    {
      "cell_type": "code",
      "source": [
        "def boundary_r(x, on_boundary):\n",
        "  return on_boundary and dde.utils.isclose(x[0], 1)"
      ],
      "metadata": {
        "id": "SBa0biB9WmSB"
      },
      "execution_count": null,
      "outputs": []
    },
    {
      "cell_type": "markdown",
      "source": [
        "The Dirichlet boundary condition is defined in a similar way that the function should return `True` for those points satisfying $x = -1$ and `False` otherwise. The arguments in this function are similar to `boundary_r`, and the only difference is that in this case Dirichlet boundary condition is used when it reaches the left endpoint of the interval."
      ],
      "metadata": {
        "id": "8kLEfV2ZXp0N"
      }
    },
    {
      "cell_type": "code",
      "source": [
        "def boundary_l(x, on_boundary):\n",
        "  return on_boundary and dde.utils.isclose(x[0], -1)"
      ],
      "metadata": {
        "id": "oLoLNW52Xo_i"
      },
      "execution_count": null,
      "outputs": []
    },
    {
      "cell_type": "markdown",
      "source": [
        "Next, we define a function to return the value of $u(x)$ for the points $x$ on the Dirichlet boundary. In this case, it is $u(x) = 0$. For example, $(x + 1)^2$ is 0 on the boundary, and thus we can also use"
      ],
      "metadata": {
        "id": "isY6WOLRYHTh"
      }
    },
    {
      "cell_type": "code",
      "source": [
        "def func(x):\n",
        "  return (x + 1) ** 2"
      ],
      "metadata": {
        "id": "Y_CzP-vBYGXj"
      },
      "execution_count": null,
      "outputs": []
    },
    {
      "cell_type": "markdown",
      "source": [
        "Then, the Dirichlet boundary condition is"
      ],
      "metadata": {
        "id": "PkR9poAoYWtn"
      }
    },
    {
      "cell_type": "code",
      "source": [
        "bc_l = dde.icbc.DirichletBC(geom, func, boundary_l)"
      ],
      "metadata": {
        "id": "qL86FooCYWEj"
      },
      "execution_count": null,
      "outputs": []
    },
    {
      "cell_type": "markdown",
      "source": [
        "For Neumann boundary condition, rather than define a function to return the value of $u(x)$ on the boundary, we use a lambda function and the Neumann boundary condition is defined"
      ],
      "metadata": {
        "id": "vG8gUojfYcp8"
      }
    },
    {
      "cell_type": "code",
      "source": [
        "bc_r = dde.icbc.NeumannBC(geom, lambda X: 2*(X+1), boundary_r)"
      ],
      "metadata": {
        "id": "-i5TCdfoYcDy"
      },
      "execution_count": null,
      "outputs": []
    },
    {
      "cell_type": "markdown",
      "source": [
        "Now, we have specified the geometry, PDE residual, Dirichlet boundary condition and Neumann boundary condition. We then define the PDE problem as"
      ],
      "metadata": {
        "id": "9TUHoM48YrS6"
      }
    },
    {
      "cell_type": "code",
      "source": [
        "data = dde.data.PDE(geom, pde, [bc_l, bc_r], 16, 2, solution=func, num_test=100)"
      ],
      "metadata": {
        "id": "c7qS_5ZkYqUB"
      },
      "execution_count": null,
      "outputs": []
    },
    {
      "cell_type": "markdown",
      "source": [
        "The number 16 is the number of training residual points sampled inside the domain, and the number 2 is the number of training points sampled on the boundary. The argument `solution=func` is the reference solution to compute the error of our solution, and can be ignored if we don't have a reference solution. We use 100 residual points for testing the PDE residual.\n",
        "\n",
        "Next, we choose the network. Here, we use a fully connected neural network of depth 4 (i.e., 3 hidden layers) and width 50:"
      ],
      "metadata": {
        "id": "_s_uKPAMY7wm"
      }
    },
    {
      "cell_type": "code",
      "source": [
        "layer_size = [1] + [50] * 3 + [1]\n",
        "activation = \"tanh\"\n",
        "initializer = \"Glorot uniform\"\n",
        "net = dde.nn.FNN(layer_size, activation, initializer)"
      ],
      "metadata": {
        "id": "hK6Kwoa6Y36A"
      },
      "execution_count": null,
      "outputs": []
    },
    {
      "cell_type": "markdown",
      "source": [
        "Now, we have the PDE problem and the network. We build a `Model` and choose the optimizer and learning rate:"
      ],
      "metadata": {
        "id": "61f_D0dlZbY2"
      }
    },
    {
      "cell_type": "code",
      "source": [
        "model = dde.Model(data, net)\n",
        "model.compile(\"adam\", lr=0.001, metrics=[\"l2 relative error\"])"
      ],
      "metadata": {
        "colab": {
          "base_uri": "https://localhost:8080/"
        },
        "id": "eG47teTQZaqJ",
        "outputId": "4ac8ace8-df99-4943-86fe-53b8f6af7460"
      },
      "execution_count": null,
      "outputs": [
        {
          "output_type": "stream",
          "name": "stdout",
          "text": [
            "Compiling model...\n",
            "Building feed-forward neural network...\n",
            "'build' took 0.084071 s\n",
            "\n"
          ]
        },
        {
          "output_type": "stream",
          "name": "stderr",
          "text": [
            "/usr/local/lib/python3.10/dist-packages/deepxde/nn/tensorflow_compat_v1/fnn.py:116: UserWarning: `tf.layers.dense` is deprecated and will be removed in a future version. Please use `tf.keras.layers.Dense` instead.\n",
            "  return tf.layers.dense(\n"
          ]
        },
        {
          "output_type": "stream",
          "name": "stdout",
          "text": [
            "'compile' took 0.621321 s\n",
            "\n"
          ]
        }
      ]
    },
    {
      "cell_type": "markdown",
      "source": [
        "We also compute the $L^2$ relative error as a metric during training.\n",
        "\n",
        "We then train the model for 10000 iterations:"
      ],
      "metadata": {
        "id": "S8IUJip6Zo3G"
      }
    },
    {
      "cell_type": "code",
      "source": [
        "losshistory, train_state = model.train(iterations=10000)"
      ],
      "metadata": {
        "colab": {
          "base_uri": "https://localhost:8080/"
        },
        "id": "0gy10I6KZoFZ",
        "outputId": "b966ffe7-e787-405f-9a29-10bf8b63eec7"
      },
      "execution_count": null,
      "outputs": [
        {
          "output_type": "stream",
          "name": "stdout",
          "text": [
            "Training model...\n",
            "\n",
            "Step      Train loss                        Test loss                         Test metric   \n",
            "0         [4.00e+00, 2.91e-05, 1.61e+01]    [4.00e+00, 2.91e-05, 1.61e+01]    [1.00e+00]    \n",
            "1000      [3.48e-04, 6.47e-09, 2.59e-07]    [2.24e-04, 6.47e-09, 2.59e-07]    [4.28e-04]    \n",
            "2000      [1.32e-04, 3.41e-06, 1.96e-06]    [1.16e-04, 3.41e-06, 1.96e-06]    [1.08e-03]    \n",
            "3000      [8.04e-05, 3.26e-05, 1.76e-05]    [6.49e-05, 3.26e-05, 1.76e-05]    [1.74e-03]    \n",
            "4000      [5.05e-05, 1.35e-04, 7.99e-05]    [4.55e-05, 1.35e-04, 7.99e-05]    [4.18e-03]    \n",
            "5000      [2.11e-05, 1.77e-06, 1.07e-06]    [1.76e-05, 1.77e-06, 1.07e-06]    [4.45e-04]    \n",
            "6000      [1.74e-05, 9.32e-11, 2.33e-10]    [1.91e-05, 9.32e-11, 2.33e-10]    [4.70e-04]    \n",
            "7000      [1.74e-05, 7.52e-06, 5.09e-06]    [2.13e-05, 7.52e-06, 5.09e-06]    [8.72e-04]    \n",
            "8000      [1.54e-05, 1.97e-10, 2.79e-12]    [2.15e-05, 1.97e-10, 2.79e-12]    [5.84e-04]    \n",
            "9000      [2.33e-05, 4.13e-06, 2.08e-05]    [3.52e-05, 4.13e-06, 2.08e-05]    [1.32e-03]    \n",
            "10000     [2.11e-05, 4.29e-05, 8.42e-06]    [2.85e-05, 4.29e-05, 8.42e-06]    [1.97e-03]    \n",
            "\n",
            "Best model at step 8000:\n",
            "  train loss: 1.54e-05\n",
            "  test loss: 2.15e-05\n",
            "  test metric: [5.84e-04]\n",
            "\n",
            "'train' took 23.771437 s\n",
            "\n"
          ]
        }
      ]
    },
    {
      "cell_type": "code",
      "source": [
        "dde.saveplot(losshistory, train_state, issave=True, isplot=True)"
      ],
      "metadata": {
        "colab": {
          "base_uri": "https://localhost:8080/",
          "height": 933
        },
        "id": "D4J5wmIrZ13t",
        "outputId": "3a40264b-06f2-4c0e-8687-0bdead90e8ac"
      },
      "execution_count": null,
      "outputs": [
        {
          "output_type": "stream",
          "name": "stdout",
          "text": [
            "Saving loss history to /content/loss.dat ...\n",
            "Saving training data to /content/train.dat ...\n",
            "Saving test data to /content/test.dat ...\n"
          ]
        },
        {
          "output_type": "display_data",
          "data": {
            "text/plain": [
              "<Figure size 640x480 with 1 Axes>"
            ],
            "image/png": "[encoded data removed]"
          },
          "metadata": {}
        },
        {
          "output_type": "display_data",
          "data": {
            "text/plain": [
              "<Figure size 640x480 with 1 Axes>"
            ],
            "image/png": "[encoded data removed]"
          },
          "metadata": {}
        }
      ]
    }
  ]
}